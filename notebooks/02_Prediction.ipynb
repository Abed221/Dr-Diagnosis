{
  "nbformat": 4,
  "nbformat_minor": 0,
  "metadata": {
    "colab": {
      "name": "02_Prediction.ipynb",
      "provenance": []
    },
    "kernelspec": {
      "name": "python3",
      "display_name": "Python 3"
    },
    "language_info": {
      "name": "python"
    }
  },
  "cells": [
    {
      "cell_type": "code",
      "source": [
        "import pandas as pd\n",
        "import numpy as np\n",
        "import matplotlib.pyplot as plt\n",
        "%matplotlib inline\n",
        "from sklearn.linear_model import LogisticRegression\n",
        "from sklearn.model_selection import train_test_split\n",
        "\n",
        "from sklearn.metrics import f1_score\n",
        "from sklearn.metrics import classification_report\n",
        "from sklearn.metrics import multilabel_confusion_matrix\n",
        "from sklearn.metrics import silhouette_score"
      ],
      "metadata": {
        "id": "EtpOtP8DXAyz"
      },
      "execution_count": 27,
      "outputs": []
    },
    {
      "cell_type": "markdown",
      "source": [
        "# Modelling"
      ],
      "metadata": {
        "id": "FhwtLFIyYiLq"
      }
    },
    {
      "cell_type": "code",
      "source": [
        "#Cleaned data for our modelling\n",
        "data_path = 'Cleaned.pkl'\n",
        "df = pd.read_pickle(data_path)"
      ],
      "metadata": {
        "id": "f8KDH2Cba1gn"
      },
      "execution_count": 7,
      "outputs": []
    },
    {
      "cell_type": "code",
      "source": [
        "y = df['Disease']\n",
        "x = df.drop(['Disease', 'missing'], axis=1)\n",
        "\n",
        "x_train, x_test, y_train, y_test = train_test_split(x,y, test_size = 0.3)"
      ],
      "metadata": {
        "id": "Xo_0ogv4y8HJ"
      },
      "execution_count": 35,
      "outputs": []
    },
    {
      "cell_type": "markdown",
      "source": [
        "## Sklearn Logistic regression:"
      ],
      "metadata": {
        "id": "kIXUblx8a8xV"
      }
    },
    {
      "cell_type": "code",
      "source": [
        "regs = LogisticRegression().fit(x_train,y_train)"
      ],
      "metadata": {
        "id": "hCaUkKN2zy-O"
      },
      "execution_count": 36,
      "outputs": []
    },
    {
      "cell_type": "code",
      "source": [
        "#Test Case Init.\n",
        "arr = np.zeros((1, 115), int)\n",
        "arr[0][1], arr[0][2] = 1,1\n",
        "case = arr.reshape(1,-1)\n",
        "prediction = regs.predict(case)\n",
        "print(str(prediction[0]))"
      ],
      "metadata": {
        "colab": {
          "base_uri": "https://localhost:8080/"
        },
        "id": "Af7RjmLNRVo4",
        "outputId": "8366eba5-0557-4a08-869b-c1f4184669ba"
      },
      "execution_count": 32,
      "outputs": [
        {
          "output_type": "stream",
          "name": "stdout",
          "text": [
            "Paralysis (brain hemorrhage)\n"
          ]
        },
        {
          "output_type": "stream",
          "name": "stderr",
          "text": [
            "/usr/local/lib/python3.7/dist-packages/sklearn/base.py:451: UserWarning:\n",
            "\n",
            "X does not have valid feature names, but LogisticRegression was fitted with feature names\n",
            "\n"
          ]
        }
      ]
    },
    {
      "cell_type": "code",
      "source": [
        "regs.score(x_train,y_train)"
      ],
      "metadata": {
        "colab": {
          "base_uri": "https://localhost:8080/"
        },
        "id": "1maI6wmb59FS",
        "outputId": "144079f6-7f42-4764-cdb8-7c7fb34c9093"
      },
      "execution_count": 37,
      "outputs": [
        {
          "output_type": "execute_result",
          "data": {
            "text/plain": [
              "0.9988385598141696"
            ]
          },
          "metadata": {},
          "execution_count": 37
        }
      ]
    },
    {
      "cell_type": "code",
      "source": [
        "regs.score(x_test,y_test)"
      ],
      "metadata": {
        "colab": {
          "base_uri": "https://localhost:8080/"
        },
        "id": "uvRruIRj6T8z",
        "outputId": "cbf4ab58-71fc-44a5-94eb-ec7f63ca5e47"
      },
      "execution_count": 38,
      "outputs": [
        {
          "output_type": "execute_result",
          "data": {
            "text/plain": [
              "0.9986449864498645"
            ]
          },
          "metadata": {},
          "execution_count": 38
        }
      ]
    },
    {
      "cell_type": "code",
      "source": [
        "f1_score(y_test, regs.predict(x_test), average='micro')"
      ],
      "metadata": {
        "colab": {
          "base_uri": "https://localhost:8080/"
        },
        "id": "XOo30yIGsYFO",
        "outputId": "1ba37408-daa9-43cb-c674-e8ca26b5f130"
      },
      "execution_count": 43,
      "outputs": [
        {
          "output_type": "execute_result",
          "data": {
            "text/plain": [
              "0.997289972899729"
            ]
          },
          "metadata": {},
          "execution_count": 43
        }
      ]
    },
    {
      "cell_type": "markdown",
      "source": [
        "## Tensorflow"
      ],
      "metadata": {
        "id": "LUCwMkBhbN4E"
      }
    },
    {
      "cell_type": "code",
      "source": [
        ""
      ],
      "metadata": {
        "id": "KmiXUUldsG26"
      },
      "execution_count": null,
      "outputs": []
    },
    {
      "cell_type": "code",
      "source": [
        ""
      ],
      "metadata": {
        "id": "OGDemaUAoCAH"
      },
      "execution_count": null,
      "outputs": []
    }
  ]
}